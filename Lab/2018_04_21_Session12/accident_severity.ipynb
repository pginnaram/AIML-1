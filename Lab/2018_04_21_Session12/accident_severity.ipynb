{
 "cells": [
  {
   "cell_type": "code",
   "execution_count": 1,
   "metadata": {
    "scrolled": true
   },
   "outputs": [],
   "source": [
    "from sklearn import tree\n",
    "from sklearn.ensemble import GradientBoostingClassifier\n",
    "from sklearn.ensemble import AdaBoostClassifier\n",
    "from sklearn.ensemble import RandomForestClassifier\n",
    "\n",
    "import csv\n",
    "import pandas as pd\n",
    "import numpy as np"
   ]
  },
  {
   "cell_type": "code",
   "execution_count": 2,
   "metadata": {},
   "outputs": [],
   "source": [
    "def to_week_num(s):\n",
    "    s = s.strip().lower()\n",
    "    \n",
    "    if s == \"sun\":\n",
    "        return 1\n",
    "    elif s == \"mon\":\n",
    "        return 2\n",
    "    elif s == \"tue\":\n",
    "        return 3\n",
    "    elif s == \"wed\":\n",
    "        return 4\n",
    "    elif s == \"thu\":\n",
    "        return 5\n",
    "    elif s == \"fri\":\n",
    "        return 6\n",
    "    elif s == \"sat\":\n",
    "        return 7\n",
    "    else:\n",
    "        return 0"
   ]
  },
  {
   "cell_type": "code",
   "execution_count": 3,
   "metadata": {},
   "outputs": [
    {
     "name": "stdout",
     "output_type": "stream",
     "text": [
      "{'crea': 1, 'belc': 2, 'lisb': 3, 'midu': 4, 'foyl': 5, 'antn': 6, 'arbc': 7, 'nabb': 8, 'ccgl': 9, 'antr': 10, 'lisc': 11, 'arnd': 12, 'ndow': 13, 'fero': 14, 'dcst': 15, 'dast': 16, 'bmen': 17, 'ferm': 18, 'beln': 19, 'arma': 20, 'cole': 21, 'moyl': 22, 'bele': 23, 'belw': 24, 'crai': 25, 'cook': 26, 'mean': 27, 'bels': 28, 'strb': 29, 'cfer': 30, 'omag': 31, 'nemd': 32, 'ards': 33, 'lima': 34, 'down': 35, 'banb': 36, 'newm': 37, 'bmon': 38, 'mfel': 39, 'larn': 40}\n"
     ]
    }
   ],
   "source": [
    "def create_policing_area_dic(train_data_file):\n",
    "    df_train_0 = pd.read_csv(train_data_file, converters={\"Weekday_of_Collision\":to_week_num})\n",
    "    df_train_0 = df_train_0.fillna(0)\n",
    "    \n",
    "    policing_area = df_train_0['Policing_Area']\n",
    "    #print(policing_area)\n",
    "  \n",
    "    n = 1\n",
    "    policing_area_dic = {}\n",
    "    for x in policing_area:\n",
    "        if x == 0:\n",
    "            continue\n",
    "        x = x.strip().lower()\n",
    "        if x not in policing_area_dic.keys():\n",
    "            policing_area_dic[x] = n\n",
    "            n = n + 1\n",
    "    \n",
    "    return policing_area_dic\n",
    "        \n",
    "\n",
    "pa_dic = create_policing_area_dic('Accident_train.csv')\n",
    "print(pa_dic)"
   ]
  },
  {
   "cell_type": "code",
   "execution_count": 4,
   "metadata": {},
   "outputs": [],
   "source": [
    "def to_policing_area_num(s):\n",
    "    s = s.strip().lower()\n",
    "    if s in pa_dic.keys():\n",
    "        return pa_dic[s]\n",
    "    else:\n",
    "        return 41\n",
    "    "
   ]
  },
  {
   "cell_type": "code",
   "execution_count": 5,
   "metadata": {},
   "outputs": [],
   "source": [
    "def load_train_data(train_data_file):\n",
    "    df_train = pd.read_csv(train_data_file, converters={\"Weekday_of_Collision\":to_week_num,\"Policing_Area\":to_policing_area_num})\n",
    "    df_train = df_train.fillna(0)\n",
    "\n",
    "\n",
    "    Y_train = df_train['Collision_Severity']\n",
    "\n",
    "    # 'Policing_Area', ---- skipped for now\n",
    "\n",
    "    X_train = df_train[['Collision_Ref_No', 'Policing_Area', 'Weekday_of_Collision','Day_of_Collision','Month_of_Collision', 'Hour_of_Collision', 'Carriageway_Type', 'Speed_Limit', 'Junction_Detail', 'Junction_Control','Ped_Crossing_HC', 'Ped_Crossing_PC', 'Light_Conditions', 'Weather_Conditions', 'Road_Surface_Conditions', 'Special_Conditions_at_Site' ]]\n",
    "\n",
    "\n",
    "    #print(Y_train)\n",
    "    #print(X_train)\n",
    "    \n",
    "    return X_train, Y_train"
   ]
  },
  {
   "cell_type": "code",
   "execution_count": 6,
   "metadata": {},
   "outputs": [],
   "source": [
    "def train_the_model(X_train, Y_train, algo = 'DT'):\n",
    "    if algo == 'DT':\n",
    "        clf = tree.DecisionTreeClassifier(max_depth=3)\n",
    "    elif algo == 'GBM':\n",
    "        clf = GradientBoostingClassifier( random_state=0)\n",
    "    elif algo == 'ADA':\n",
    "        clf = AdaBoostClassifier(n_estimators=100)\n",
    "    elif algo == 'RF':\n",
    "        clf = RandomForestClassifier()\n",
    "\n",
    "    clf = clf.fit(X_train, Y_train)\n",
    "    return clf"
   ]
  },
  {
   "cell_type": "code",
   "execution_count": 7,
   "metadata": {},
   "outputs": [],
   "source": [
    "def load_test_data(test_data_file):\n",
    "    df_test = pd.read_csv(test_data_file, converters={\"Weekday_of_Collision\":to_week_num,\"Policing_Area\":to_policing_area_num})\n",
    "    df_test = df_test.fillna(0)\n",
    "\n",
    "    X_test = df_test[['Collision_Ref_No', 'Policing_Area',  'Weekday_of_Collision','Day_of_Collision','Month_of_Collision', 'Hour_of_Collision', 'Carriageway_Type', 'Speed_Limit', 'Junction_Detail', 'Junction_Control','Ped_Crossing_HC', 'Ped_Crossing_PC', 'Light_Conditions', 'Weather_Conditions', 'Road_Surface_Conditions', 'Special_Conditions_at_Site' ]]\n",
    "    \n",
    "    return X_test\n"
   ]
  },
  {
   "cell_type": "code",
   "execution_count": 8,
   "metadata": {},
   "outputs": [],
   "source": [
    "def predict_model(X_test, output_file):\n",
    "    predited_val = clf.predict(X_test)\n",
    "    index = 1\n",
    "    with open(output_file, 'w', newline='') as csvfile:\n",
    "        spamwriter = csv.writer(csvfile, delimiter=',')\n",
    "        spamwriter.writerow(['S.No.', 'Collision_Severity'])\n",
    "        for val in predited_val:\n",
    "            spamwriter.writerow([index, val])\n",
    "            index = index + 1\n",
    "\n",
    "    csvfile.close()"
   ]
  },
  {
   "cell_type": "code",
   "execution_count": 9,
   "metadata": {},
   "outputs": [],
   "source": [
    "X_train, Y_train = load_train_data('Accident_train.csv')\n",
    "X_test = load_test_data('Accident_test.csv')"
   ]
  },
  {
   "cell_type": "code",
   "execution_count": 10,
   "metadata": {},
   "outputs": [],
   "source": [
    "for algo in ['DT', 'GBM', 'ADA', 'RF']:\n",
    "    clf = train_the_model(X_train, Y_train, algo)\n",
    "    out_file = 'using_' + algo + '_prediction.csv' \n",
    "    predict_model(X_test,out_file)"
   ]
  },
  {
   "cell_type": "code",
   "execution_count": null,
   "metadata": {},
   "outputs": [],
   "source": []
  },
  {
   "cell_type": "code",
   "execution_count": null,
   "metadata": {},
   "outputs": [],
   "source": []
  }
 ],
 "metadata": {
  "kernelspec": {
   "display_name": "Python 3",
   "language": "python",
   "name": "python3"
  },
  "language_info": {
   "codemirror_mode": {
    "name": "ipython",
    "version": 3
   },
   "file_extension": ".py",
   "mimetype": "text/x-python",
   "name": "python",
   "nbconvert_exporter": "python",
   "pygments_lexer": "ipython3",
   "version": "3.6.3"
  }
 },
 "nbformat": 4,
 "nbformat_minor": 2
}
