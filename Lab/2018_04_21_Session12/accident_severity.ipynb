{
 "cells": [
  {
   "cell_type": "code",
   "execution_count": 1,
   "metadata": {
    "scrolled": true
   },
   "outputs": [],
   "source": [
    "from sklearn import tree\n",
    "from sklearn.ensemble import GradientBoostingClassifier\n",
    "from sklearn.ensemble import AdaBoostClassifier\n",
    "\n",
    "import csv\n",
    "import pandas as pd\n",
    "import numpy as np"
   ]
  },
  {
   "cell_type": "code",
   "execution_count": 2,
   "metadata": {},
   "outputs": [],
   "source": [
    "def to_week_num(s):\n",
    "    s = s.strip().lower()\n",
    "    \n",
    "    if s == \"sun\":\n",
    "        return 1\n",
    "    elif s == \"mon\":\n",
    "        return 2\n",
    "    elif s == \"tue\":\n",
    "        return 3\n",
    "    elif s == \"wed\":\n",
    "        return 4\n",
    "    elif s == \"thu\":\n",
    "        return 5\n",
    "    elif s == \"fri\":\n",
    "        return 6\n",
    "    elif s == \"sat\":\n",
    "        return 7\n",
    "    else:\n",
    "        return 0"
   ]
  },
  {
   "cell_type": "code",
   "execution_count": 3,
   "metadata": {},
   "outputs": [],
   "source": [
    "def load_train_data(train_data_file):\n",
    "    df_train = pd.read_csv(train_data_file, converters={\"Weekday_of_Collision\":to_week_num})\n",
    "    df_train = df_train.fillna(0)\n",
    "\n",
    "\n",
    "    Y_train = df_train['Collision_Severity']\n",
    "\n",
    "    # 'Policing_Area', ---- skipped for now\n",
    "\n",
    "    X_train = df_train[['Collision_Ref_No',  'Weekday_of_Collision','Day_of_Collision','Month_of_Collision', 'Hour_of_Collision', 'Carriageway_Type', 'Speed_Limit', 'Junction_Detail', 'Junction_Control','Ped_Crossing_HC', 'Ped_Crossing_PC', 'Light_Conditions', 'Weather_Conditions', 'Road_Surface_Conditions', 'Special_Conditions_at_Site' ]]\n",
    "\n",
    "\n",
    "    #print(Y_train)\n",
    "    #print(X_train)\n",
    "    \n",
    "    return X_train, Y_train"
   ]
  },
  {
   "cell_type": "code",
   "execution_count": 4,
   "metadata": {},
   "outputs": [],
   "source": [
    "def train_the_model(X_train, Y_train, algo = 'DT'):\n",
    "    if algo == 'DT':\n",
    "        clf = tree.DecisionTreeClassifier()\n",
    "    elif algo == 'GBM':\n",
    "        clf = GradientBoostingClassifier(n_estimators=100, learning_rate=1.0,max_depth=1, random_state=0)\n",
    "    elif algo == 'ADA':\n",
    "        clf = AdaBoostClassifier(n_estimators=100)\n",
    "\n",
    "    clf = clf.fit(X_train, Y_train)\n",
    "    return clf"
   ]
  },
  {
   "cell_type": "code",
   "execution_count": 5,
   "metadata": {},
   "outputs": [],
   "source": [
    "def load_test_data(test_data_file):\n",
    "    df_test = pd.read_csv(test_data_file, converters={\"Weekday_of_Collision\":to_week_num})\n",
    "    df_test = df_test.fillna(0)\n",
    "\n",
    "    X_test = df_test[['Collision_Ref_No',  'Weekday_of_Collision','Day_of_Collision','Month_of_Collision', 'Hour_of_Collision', 'Carriageway_Type', 'Speed_Limit', 'Junction_Detail', 'Junction_Control','Ped_Crossing_HC', 'Ped_Crossing_PC', 'Light_Conditions', 'Weather_Conditions', 'Road_Surface_Conditions', 'Special_Conditions_at_Site' ]]\n",
    "    \n",
    "    return X_test\n"
   ]
  },
  {
   "cell_type": "code",
   "execution_count": 6,
   "metadata": {},
   "outputs": [],
   "source": [
    "def predict_model(X_test, output_file):\n",
    "    predited_val = clf.predict(X_test)\n",
    "    index = 1\n",
    "    with open(output_file, 'w', newline='') as csvfile:\n",
    "        spamwriter = csv.writer(csvfile, delimiter=',')\n",
    "        spamwriter.writerow(['S.No.', 'Collision_Severity'])\n",
    "        for val in predited_val:\n",
    "            spamwriter.writerow([index, val])\n",
    "            index = index + 1\n",
    "\n",
    "    csvfile.close()"
   ]
  },
  {
   "cell_type": "code",
   "execution_count": 7,
   "metadata": {},
   "outputs": [],
   "source": [
    "X_train, Y_train = load_train_data('Accident_train.csv')\n",
    "X_test = load_test_data('Accident_test.csv')"
   ]
  },
  {
   "cell_type": "code",
   "execution_count": 8,
   "metadata": {},
   "outputs": [],
   "source": [
    "for algo in ['DT', 'GBM', 'ADA']:\n",
    "    clf = train_the_model(X_train, Y_train, algo)\n",
    "    out_file = 'using_' + algo + '_prediction.csv' \n",
    "    predict_model(X_test,out_file)"
   ]
  },
  {
   "cell_type": "code",
   "execution_count": null,
   "metadata": {},
   "outputs": [],
   "source": []
  }
 ],
 "metadata": {
  "kernelspec": {
   "display_name": "Python 3",
   "language": "python",
   "name": "python3"
  },
  "language_info": {
   "codemirror_mode": {
    "name": "ipython",
    "version": 3
   },
   "file_extension": ".py",
   "mimetype": "text/x-python",
   "name": "python",
   "nbconvert_exporter": "python",
   "pygments_lexer": "ipython3",
   "version": "3.6.3"
  }
 },
 "nbformat": 4,
 "nbformat_minor": 2
}
