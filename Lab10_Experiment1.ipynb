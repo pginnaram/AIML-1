{
  "nbformat": 4,
  "nbformat_minor": 0,
  "metadata": {
    "colab": {
      "name": "Lab10-Experiment1.ipynb",
      "version": "0.3.2",
      "provenance": []
    },
    "kernelspec": {
      "display_name": "Python 3",
      "language": "python",
      "name": "python3"
    }
  },
  "cells": [
    {
      "cell_type": "markdown",
      "metadata": {
        "id": "view-in-github",
        "colab_type": "text"
      },
      "source": [
        "[View in Colaboratory](https://colab.research.google.com/github/tsumankumar/AIML/blob/master/Lab10_Experiment1.ipynb)"
      ]
    },
    {
      "metadata": {
        "id": "5ldjm8P4UZrd",
        "colab_type": "text"
      },
      "cell_type": "markdown",
      "source": [
        "# Foundations of AI & ML\n",
        "## Session 10\n",
        "### Experiment 1"
      ]
    },
    {
      "metadata": {
        "id": "3EjXEkftUZrf",
        "colab_type": "text"
      },
      "cell_type": "markdown",
      "source": [
        "In this experiment we will see the \"Auto Encoder neural network.\" we will use MNIST as our dataset."
      ]
    },
    {
      "metadata": {
        "id": "giQe3gomUZrh",
        "colab_type": "text"
      },
      "cell_type": "markdown",
      "source": [
        "**Auto Encoders** are a specific type of feedforward neural networks where the input is the same as the output. They compress the input into a lower-dimensional code and then reconstruct the output from this representation."
      ]
    },
    {
      "metadata": {
        "id": "sE0tLMuhUZrh",
        "colab_type": "text"
      },
      "cell_type": "markdown",
      "source": [
        "#### Loading the required packages"
      ]
    },
    {
      "metadata": {
        "id": "klWOiV3IUZrj",
        "colab_type": "code",
        "colab": {}
      },
      "cell_type": "code",
      "source": [
        "import torch\n",
        "import torch.nn as nn\n",
        "from torch.autograd import Variable\n",
        "import torch.utils.data as Data\n",
        "import torchvision.datasets as dsets\n",
        "import torchvision\n",
        "import torchvision.transforms as transforms\n",
        "import matplotlib.pyplot as plt\n",
        "import numpy as np\n",
        "%matplotlib inline"
      ],
      "execution_count": 0,
      "outputs": []
    },
    {
      "metadata": {
        "id": "fWRRNGiGUZro",
        "colab_type": "text"
      },
      "cell_type": "markdown",
      "source": [
        "#### Defining the parameters"
      ]
    },
    {
      "metadata": {
        "id": "MCS6upVHUZrp",
        "colab_type": "code",
        "colab": {}
      },
      "cell_type": "code",
      "source": [
        "EPOCH = 10\n",
        "batch_size = 64\n",
        "LR = 0.005      \n",
        "DOWNLOAD_MNIST = False\n",
        "### Number of images we want to test on\n",
        "N_TEST_IMG = 100"
      ],
      "execution_count": 0,
      "outputs": []
    },
    {
      "metadata": {
        "id": "TFMryLQhUZru",
        "colab_type": "text"
      },
      "cell_type": "markdown",
      "source": [
        "#### Loading MNIST dataset from torchvision datasets"
      ]
    },
    {
      "metadata": {
        "id": "DdcoJn_oUZrv",
        "colab_type": "code",
        "colab": {
          "base_uri": "https://localhost:8080/",
          "height": 119
        },
        "outputId": "aef73d50-e30f-4be9-925b-a01e936f623f"
      },
      "cell_type": "code",
      "source": [
        "#Loading the train set file\n",
        "train_data = dsets.MNIST(root='../data', \n",
        "                            train=True, \n",
        "                            transform=transforms.ToTensor(),  \n",
        "                            download=True)\n",
        "#Loading the test set file\n",
        "test_data = dsets.MNIST(root='../data', \n",
        "                           train=False, \n",
        "                           transform=transforms.ToTensor())"
      ],
      "execution_count": 7,
      "outputs": [
        {
          "output_type": "stream",
          "text": [
            "Downloading http://yann.lecun.com/exdb/mnist/train-images-idx3-ubyte.gz\n",
            "Downloading http://yann.lecun.com/exdb/mnist/train-labels-idx1-ubyte.gz\n",
            "Downloading http://yann.lecun.com/exdb/mnist/t10k-images-idx3-ubyte.gz\n",
            "Downloading http://yann.lecun.com/exdb/mnist/t10k-labels-idx1-ubyte.gz\n",
            "Processing...\n",
            "Done!\n"
          ],
          "name": "stdout"
        }
      ]
    },
    {
      "metadata": {
        "id": "7UTKbIIKUZr0",
        "colab_type": "text"
      },
      "cell_type": "markdown",
      "source": [
        "#### Visulaizing one of the training data"
      ]
    },
    {
      "metadata": {
        "id": "0b42sKQBUZr2",
        "colab_type": "code",
        "colab": {
          "base_uri": "https://localhost:8080/",
          "height": 314
        },
        "outputId": "59570ef4-0bcd-477d-caaa-4ab9cf3a82e3"
      },
      "cell_type": "code",
      "source": [
        "print(train_data.train_data.size())     # (60000, 28, 28)\n",
        "print(train_data.train_labels.size())   # (60000)\n",
        "plt.imshow(train_data.train_data[2].numpy(), cmap='gray')\n",
        "plt.title('%i' % train_data.train_labels[2])\n",
        "plt.show()"
      ],
      "execution_count": 8,
      "outputs": [
        {
          "output_type": "stream",
          "text": [
            "torch.Size([60000, 28, 28])\n",
            "torch.Size([60000])\n"
          ],
          "name": "stdout"
        },
        {
          "output_type": "display_data",
          "data": {
            "image/png": "[encoded data removed]",
            "text/plain": [
              "<matplotlib.figure.Figure at 0x7f6f872d5d30>"
            ]
          },
          "metadata": {
            "tags": []
          }
        }
      ]
    },
    {
      "metadata": {
        "id": "0t0J9qqqUZr-",
        "colab_type": "code",
        "colab": {}
      },
      "cell_type": "code",
      "source": [
        "#loading the train dataset\n",
        "train_loader = torch.utils.data.DataLoader(dataset=train_data, \n",
        "                                           batch_size=batch_size, \n",
        "                                           shuffle=True)\n",
        "\n",
        "# loading the test dataset\n",
        "\n",
        "test_loader = torch.utils.data.DataLoader(dataset=test_data, \n",
        "                                          batch_size=batch_size, \n",
        "                                          shuffle=True)"
      ],
      "execution_count": 0,
      "outputs": []
    },
    {
      "metadata": {
        "id": "ziXCu02EUZsD",
        "colab_type": "text"
      },
      "cell_type": "markdown",
      "source": [
        "#### Now let us construct the autoencoder neural network"
      ]
    },
    {
      "metadata": {
        "id": "e54mzT6kUZsF",
        "colab_type": "code",
        "colab": {}
      },
      "cell_type": "code",
      "source": [
        "class AutoEncoder(nn.Module):\n",
        "    def __init__(self):\n",
        "        super(AutoEncoder, self).__init__()\n",
        "\n",
        "        self.encoder = nn.Sequential(\n",
        "            # activation functions\n",
        "            nn.Linear(28*28, 128),\n",
        "            nn.Tanh(),\n",
        "            nn.Linear(128, 64),\n",
        "            nn.Tanh(),\n",
        "            nn.Linear(64, 12),\n",
        "            nn.Tanh(),\n",
        "            nn.Linear(12, 3),   # compress to 3 features which can be visualized in plt\n",
        "        )\n",
        "        self.decoder = nn.Sequential(\n",
        "            #activation functions\n",
        "            nn.Linear(3, 12),\n",
        "            nn.Tanh(),\n",
        "            nn.Linear(12, 64),\n",
        "            nn.Tanh(),\n",
        "            nn.Linear(64, 128),\n",
        "            nn.Tanh(),\n",
        "            nn.Linear(128, 28*28),\n",
        "            nn.Sigmoid(),       # compress to a range (0, 1)\n",
        "        )\n",
        "\n",
        "    def forward(self, x):\n",
        "        encoded = self.encoder(x)\n",
        "        decoded = self.decoder(encoded)\n",
        "        return encoded, decoded"
      ],
      "execution_count": 0,
      "outputs": []
    },
    {
      "metadata": {
        "id": "HfrihYv9UZsI",
        "colab_type": "text"
      },
      "cell_type": "markdown",
      "source": [
        "#### Now let us plot the original image and decoded image. First plot is original image and second plot is decoded image. We will also calculate the training loss for every epoch in steps. "
      ]
    },
    {
      "metadata": {
        "id": "x2xRNbtJUZsK",
        "colab_type": "code",
        "colab": {
          "base_uri": "https://localhost:8080/",
          "height": 932
        },
        "outputId": "cff90791-a991-45f3-cae7-1414c59ebb59"
      },
      "cell_type": "code",
      "source": [
        "autoencoder = AutoEncoder()\n",
        "print(autoencoder)\n",
        "\n",
        "# Initialization of Optimizer\n",
        "optimizer = torch.optim.Adam(autoencoder.parameters(), lr=LR)\n",
        "## Initialization of Mean Square Error\n",
        "loss_func = nn.MSELoss()\n",
        "\n",
        "# original data (first row) for viewing\n",
        "view_data = Variable(train_data.train_data[:N_TEST_IMG].view(-1, 28*28).type(torch.FloatTensor)/255.)\n",
        "\n",
        "for epoch in range(EPOCH):\n",
        "    for step, (x, y) in enumerate(train_loader):\n",
        "        b_x = Variable(x.view(-1, 28*28))   # batch x, shape (batch, 28*28)\n",
        "        b_y = Variable(x.view(-1, 28*28))   # batch y, shape (batch, 28*28)\n",
        "        b_label = Variable(y)               # batch label\n",
        "\n",
        "        encoded, decoded = autoencoder(b_x)\n",
        "        loss = loss_func(decoded, b_y)      # mean square error\n",
        "        optimizer.zero_grad()               # clear gradients for this training step\n",
        "        loss.backward()                     # backpropagation, compute gradients\n",
        "        optimizer.step()                    # apply gradients\n",
        "\n",
        "        if step % 500 == 0 and epoch in [0, 5, EPOCH-1]:\n",
        "            print('Epoch: ', epoch, '| train loss: %.4f' % loss.data[0])\n",
        "            # plotting decoded image (second row)\n",
        "            encoded_data, decoded_data = autoencoder(view_data)\n",
        "            # initialize figure\n",
        "            f, a = plt.subplots(2, N_TEST_IMG, figsize=(5, 2))\n",
        "            #Plotting orginal images\n",
        "            for i in range(N_TEST_IMG):\n",
        "                a[0][i].imshow(np.reshape(view_data.data.numpy()[i], (28, 28)), cmap='gray'); a[0][i].set_xticks(()); a[0][i].set_yticks(())\n",
        "            # Plotting the decoded images\n",
        "            for i in range(N_TEST_IMG):\n",
        "                a[1][i].clear()\n",
        "                a[1][i].imshow(np.reshape(decoded_data.data.numpy()[i], (28, 28)), cmap='gray')\n",
        "                a[1][i].set_xticks(()); a[1][i].set_yticks(())\n",
        "            plt.show(); "
      ],
      "execution_count": 11,
      "outputs": [
        {
          "output_type": "stream",
          "text": [
            "AutoEncoder(\n",
            "  (encoder): Sequential(\n",
            "    (0): Linear(in_features=784, out_features=128)\n",
            "    (1): Tanh()\n",
            "    (2): Linear(in_features=128, out_features=64)\n",
            "    (3): Tanh()\n",
            "    (4): Linear(in_features=64, out_features=12)\n",
            "    (5): Tanh()\n",
            "    (6): Linear(in_features=12, out_features=3)\n",
            "  )\n",
            "  (decoder): Sequential(\n",
            "    (0): Linear(in_features=3, out_features=12)\n",
            "    (1): Tanh()\n",
            "    (2): Linear(in_features=12, out_features=64)\n",
            "    (3): Tanh()\n",
            "    (4): Linear(in_features=64, out_features=128)\n",
            "    (5): Tanh()\n",
            "    (6): Linear(in_features=128, out_features=784)\n",
            "    (7): Sigmoid()\n",
            "  )\n",
            ")\n",
            "Epoch:  0 | train loss: 0.2321\n"
          ],
          "name": "stdout"
        },
        {
          "output_type": "display_data",
          "data": {
            "image/png": "[encoded data removed]",
            "text/plain": [
              "<matplotlib.figure.Figure at 0x7f6f7a4d9588>"
            ]
          },
          "metadata": {
            "tags": []
          }
        },
        {
          "output_type": "stream",
          "text": [
            "Epoch:  0 | train loss: 0.0492\n"
          ],
          "name": "stdout"
        },
        {
          "output_type": "display_data",
          "data": {
            "image/png": "[encoded data removed]",
            "text/plain": [
              "<matplotlib.figure.Figure at 0x7f6f7a4d99e8>"
            ]
          },
          "metadata": {
            "tags": []
          }
        },
        {
          "output_type": "stream",
          "text": [
            "Epoch:  5 | train loss: 0.0375\n"
          ],
          "name": "stdout"
        },
        {
          "output_type": "display_data",
          "data": {
            "image/png": "[encoded data removed]",
            "text/plain": [
              "<matplotlib.figure.Figure at 0x7f6f81f20860>"
            ]
          },
          "metadata": {
            "tags": []
          }
        },
        {
          "output_type": "stream",
          "text": [
            "Epoch:  5 | train loss: 0.0372\n"
          ],
          "name": "stdout"
        },
        {
          "output_type": "display_data",
          "data": {
            "image/png": "[encoded data removed]",
            "text/plain": [
              "<matplotlib.figure.Figure at 0x7f6f81f20a58>"
            ]
          },
          "metadata": {
            "tags": []
          }
        },
        {
          "output_type": "stream",
          "text": [
            "Epoch:  9 | train loss: 0.0337\n"
          ],
          "name": "stdout"
        },
        {
          "output_type": "display_data",
          "data": {
            "image/png": "[encoded data removed]",
            "text/plain": [
              "<matplotlib.figure.Figure at 0x7f6f7e68c5c0>"
            ]
          },
          "metadata": {
            "tags": []
          }
        },
        {
          "output_type": "stream",
          "text": [
            "Epoch:  9 | train loss: 0.0386\n"
          ],
          "name": "stdout"
        },
        {
          "output_type": "display_data",
          "data": {
            "image/png": "[encoded data removed]",
            "text/plain": [
              "<matplotlib.figure.Figure at 0x7f6f81b52eb8>"
            ]
          },
          "metadata": {
            "tags": []
          }
        }
      ]
    },
    {
      "metadata": {
        "id": "smcwNmdDUZsS",
        "colab_type": "text"
      },
      "cell_type": "markdown",
      "source": [
        "Applying Autoencoders on the test data and finding the loss on the test dataset"
      ]
    },
    {
      "metadata": {
        "id": "Tjf6hksoUZsT",
        "colab_type": "code",
        "colab": {},
        "outputId": "7a0f470c-7503-439e-f808-78af368c8754"
      },
      "cell_type": "code",
      "source": [
        "autoencoder = AutoEncoder()\n",
        "print(autoencoder)\n",
        "\n",
        "# Initialization of Optimizer\n",
        "optimizer = torch.optim.Adam(autoencoder.parameters(), lr=LR)\n",
        "## Initialization of Mean Square Error\n",
        "loss_func = nn.MSELoss()\n",
        "\n",
        "# original data (first row) for viewing\n",
        "view_data = Variable(test_data.test_data[:N_TEST_IMG].view(-1, 28*28).type(torch.FloatTensor)/255.)\n",
        "\n",
        "for b_x in range(EPOCH):\n",
        "    for step, (x, y) in enumerate(test_loader):\n",
        "        b_x = Variable(x.view(-1, 28*28))   # batch x, shape (batch, 28*28)\n",
        "        b_y = Variable(x.view(-1, 28*28))   # batch y, shape (batch, 28*28)\n",
        "        b_label = Variable(y)               # batch label\n",
        "\n",
        "        encoded, decoded = autoencoder(b_x)\n",
        "        loss = loss_func(decoded, b_y)\n",
        "print(loss)"
      ],
      "execution_count": 0,
      "outputs": [
        {
          "output_type": "stream",
          "text": [
            "AutoEncoder(\n",
            "  (encoder): Sequential(\n",
            "    (0): Linear(in_features=784, out_features=128, bias=True)\n",
            "    (1): Tanh()\n",
            "    (2): Linear(in_features=128, out_features=64, bias=True)\n",
            "    (3): Tanh()\n",
            "    (4): Linear(in_features=64, out_features=12, bias=True)\n",
            "    (5): Tanh()\n",
            "    (6): Linear(in_features=12, out_features=3, bias=True)\n",
            "  )\n",
            "  (decoder): Sequential(\n",
            "    (0): Linear(in_features=3, out_features=12, bias=True)\n",
            "    (1): Tanh()\n",
            "    (2): Linear(in_features=12, out_features=64, bias=True)\n",
            "    (3): Tanh()\n",
            "    (4): Linear(in_features=64, out_features=128, bias=True)\n",
            "    (5): Tanh()\n",
            "    (6): Linear(in_features=128, out_features=784, bias=True)\n",
            "    (7): Sigmoid()\n",
            "  )\n",
            ")\n",
            "Variable containing:\n",
            " 0.2311\n",
            "[torch.FloatTensor of size 1]\n",
            "\n"
          ],
          "name": "stdout"
        }
      ]
    },
    {
      "metadata": {
        "id": "1iKi9f-5UZsX",
        "colab_type": "text"
      },
      "cell_type": "markdown",
      "source": [
        "In previous experiments we have used PCA technique for dimensionality reduction which is restricted to linear map while auto encoders can have nonlinear enoder/decoders."
      ]
    },
    {
      "metadata": {
        "id": "2DUIO4bSUZsZ",
        "colab_type": "text"
      },
      "cell_type": "markdown",
      "source": [
        "Applying PCA Reconstruction on the test data and calculating the loss.we can see that the autoencoders are more compact than PCA."
      ]
    },
    {
      "metadata": {
        "id": "FyPXK-2ZUZsZ",
        "colab_type": "code",
        "colab": {},
        "outputId": "8a60c9bb-ab1b-4f54-d368-0fa70063e476"
      },
      "cell_type": "code",
      "source": [
        "from sklearn.decomposition import PCA\n",
        "import numpy as np\n",
        "# Reconstruct original data\n",
        "# Perform PCA for three components\n",
        "pca = PCA(3)\n",
        "loss = 0\n",
        "for step, (x, y) in enumerate(test_loader):\n",
        "        b_x = (x.view(-1, 28*28))   # batch x, shape (batch, 28*28)\n",
        "        b_y = (x.view(-1, 28*28))\n",
        "        b_x = np.array(b_x)\n",
        "        b_y = np.array(b_y)\n",
        "        data_reduced = pca.fit_transform(b_x)\n",
        "        data_reconstructed = pca.inverse_transform(data_reduced)\n",
        "        #loss += ((abs(data_reconstructed) - (b_x)) ** 2)\n",
        "        loss += ((b_x - data_reconstructed) ** 2).mean()\n",
        "print(loss)"
      ],
      "execution_count": 0,
      "outputs": [
        {
          "output_type": "stream",
          "text": [
            "7.353468950837851\n"
          ],
          "name": "stdout"
        }
      ]
    },
    {
      "metadata": {
        "id": "gvIVY29bUZse",
        "colab_type": "text"
      },
      "cell_type": "markdown",
      "source": [
        "From above we can observe that pca loss is greater thab autoencoder loss attributed to the non-linearty reduction."
      ]
    }
  ]
}